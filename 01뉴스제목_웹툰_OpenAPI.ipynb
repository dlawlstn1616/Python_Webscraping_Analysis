{
 "cells": [
  {
   "cell_type": "markdown",
   "id": "3ea4b261-4ea4-4dc0-8d74-51553190ed07",
   "metadata": {},
   "source": [
    "## 1. 뉴스제목 가져오기\n",
    "* user-agent 요청헤더를 반드시 설정해야 한다."
   ]
  },
  {
   "cell_type": "code",
   "execution_count": 1,
   "id": "f0d27781",
   "metadata": {},
   "outputs": [
    {
     "name": "stdout",
     "output_type": "stream",
     "text": [
      "Name: requests\n",
      "Version: 2.32.2\n",
      "Summary: Python HTTP for Humans.\n",
      "Home-page: https://requests.readthedocs.io\n",
      "Author: Kenneth Reitz\n",
      "Author-email: me@kennethreitz.org\n",
      "License: Apache-2.0\n",
      "Location: C:\\Users\\r2com\\anaconda3\\Lib\\site-packages\n",
      "Requires: certifi, charset-normalizer, idna, urllib3\n",
      "Required-by: anaconda-catalogs, anaconda-client, anaconda-cloud-auth, anaconda-project, conda, conda-build, conda-repo-cli, conda_package_streaming, cookiecutter, datashader, intake, jupyterlab_server, panel, requests-file, requests-toolbelt, Sphinx, streamlit, tldextract\n"
     ]
    }
   ],
   "source": [
    "!pip show requests"
   ]
  },
  {
   "cell_type": "code",
   "execution_count": 2,
   "id": "f7798ea8",
   "metadata": {},
   "outputs": [
    {
     "name": "stdout",
     "output_type": "stream",
     "text": [
      "Name: beautifulsoup4\n",
      "Version: 4.12.3\n",
      "Summary: Screen-scraping library\n",
      "Home-page: \n",
      "Author: \n",
      "Author-email: Leonard Richardson <leonardr@segfault.org>\n",
      "License: MIT License\n",
      "Location: C:\\Users\\r2com\\anaconda3\\Lib\\site-packages\n",
      "Requires: soupsieve\n",
      "Required-by: conda-build, nbconvert\n"
     ]
    }
   ],
   "source": [
    "!pip show beautifulsoup4"
   ]
  },
  {
   "cell_type": "code",
   "execution_count": 3,
   "id": "bf80a429",
   "metadata": {},
   "outputs": [],
   "source": [
    "import requests\n",
    "import bs4\n",
    "from bs4 import BeautifulSoup"
   ]
  },
  {
   "cell_type": "code",
   "execution_count": 5,
   "id": "9788d6ac",
   "metadata": {},
   "outputs": [
    {
     "name": "stdout",
     "output_type": "stream",
     "text": [
      "request ver 2.32.2\n",
      "beautifulsoup 4.12.3\n"
     ]
    }
   ],
   "source": [
    "print(f'request ver {requests.__version__}' )\n",
    "print('beautifulsoup {}'.format(bs4.__version__))"
   ]
  },
  {
   "cell_type": "markdown",
   "id": "ccb91def-cde3-4aeb-b0e5-2e7233500333",
   "metadata": {},
   "source": [
    "### 1. 뉴스 제목 추출하기"
   ]
  },
  {
   "cell_type": "code",
   "execution_count": 40,
   "id": "94c12fd6",
   "metadata": {},
   "outputs": [
    {
     "name": "stdout",
     "output_type": "stream",
     "text": [
      "https://news.naver.com/section/105\n",
      "<class 'requests.models.Response'>\n",
      "200\n",
      "True\n",
      "news 제목 = SKT '원 모델 2.0', 세계 권위 정보검색 학회서 우수 논문상\n",
      "news 링크 = https://n.news.naver.com/mnews/article/011/0004375938\n",
      "news 제목 = 엔씨소프트, ‘빅게임스튜디오’에 370억 원 규모 지분·판권 투자\n",
      "news 링크 = https://n.news.naver.com/mnews/article/011/0004376146\n",
      "news 제목 = 카카오헬스케어, 글로벌 ‘연구 협력 네트워크’ 17개 병원으로 확대\n",
      "news 링크 = https://n.news.naver.com/mnews/article/011/0004375997\n",
      "news 제목 = 한국금거래소디지털에셋 \"티메프 미정산 이슈, 회사 유동성엔 영향 없어\"\n",
      "news 링크 = https://n.news.naver.com/mnews/article/003/0012710560\n",
      "news 제목 = \"교수 정착지원금 10억까지 늘려…26년도 입시 '다층면접' 검토\"\n",
      "news 링크 = https://n.news.naver.com/mnews/article/584/0000028174\n",
      "news 제목 = 中서 굴욕 애플…이제서야 한국 러브콜?\n",
      "news 링크 = https://n.news.naver.com/mnews/article/374/0000396059\n",
      "news 제목 = SK C&C, 베트남 ICT 선도 기업 'FPT IS'와 디지털 ESG 협력\n",
      "news 링크 = https://n.news.naver.com/mnews/article/031/0000859211\n",
      "news 제목 = \"올해 스마트폰 출하 3.8%↑…1위 삼성, 애플과 격차 벌릴 것\"\n",
      "news 링크 = https://n.news.naver.com/mnews/article/001/0014854918\n",
      "news 제목 = \"적자는 면했다\"...엔씨, 2분기 영업이익 88억원\n",
      "news 링크 = https://n.news.naver.com/mnews/article/008/0005073094\n",
      "news 제목 = 5년만의 40도 돌파…'사상 최악' 2018년 기록 넘어설까?\n",
      "news 링크 = https://n.news.naver.com/mnews/article/584/0000028180\n",
      "news 제목 = 코스피·코스닥 줄이어 서킷브레이커 발동\n",
      "news 링크 = https://n.news.naver.com/mnews/article/092/0002340932\n",
      "news 제목 = 엔씨소프트, 적자 면했다… 2분기 영업이익 88억원\n",
      "news 링크 = https://n.news.naver.com/mnews/article/138/0002179213\n",
      "news 제목 = 韓, 반도체 대중 수출 늘자… 中 “美 수출 제재 한계 드러나”\n",
      "news 링크 = https://n.news.naver.com/mnews/article/366/0001009937\n",
      "news 제목 = ‘아재 입맛’인 줄 알았는데…믹스커피 MZ 업고 뜨나\n",
      "news 링크 = https://n.news.naver.com/mnews/article/092/0002340930\n",
      "news 제목 = 네이버 '쇼핑 검색광고' 타고 온 '파워적립' 8년 만에 폐지\n",
      "news 링크 = https://n.news.naver.com/mnews/article/018/0005805500\n",
      "news 제목 = 한국 양궁 금메달 5개 '싹쓸이'...비결은?\n",
      "news 링크 = https://n.news.naver.com/mnews/article/092/0002340929\n",
      "news 제목 = [단독] 찜통더위 부른 북태평양 고기압…한중일 손잡고 예측 정확성 높인다\n",
      "news 링크 = https://n.news.naver.com/mnews/article/366/0001009933\n",
      "news 제목 = 곤두박질치는 비트코인…'트럼프 약발' 보단 'R의 공포'\n",
      "news 링크 = https://n.news.naver.com/mnews/article/018/0005805497\n",
      "news 제목 = 서브컬처 도전한다...엔씨, 빅게임스튜디오 지분 투자\n",
      "news 링크 = https://n.news.naver.com/mnews/article/029/0002892829\n",
      "news 제목 = 이통3사 2분기 합산 영업익 예상 1.3조…전환지원금 타격 적었다\n",
      "news 링크 = https://n.news.naver.com/mnews/article/003/0012710549\n",
      "news 제목 = 배터리 화재 키우는 '열폭주' 억제 방법 찾았다\n",
      "news 링크 = https://n.news.naver.com/mnews/article/584/0000028179\n",
      "news 제목 = 티빙, 토종 OTT 1위 굳히기.. 쿠플, EPL로 만회 나선다\n",
      "news 링크 = https://n.news.naver.com/mnews/article/014/0005223409\n",
      "news 제목 = M7 주가폭락에 실망한 투자자…\"인내심 한계 달했다\"\n",
      "news 링크 = https://n.news.naver.com/mnews/article/092/0002340926\n",
      "news 제목 = 유라클, 수요예측 경쟁률 1065.8대 1…공모가 2만1000원 확정\n",
      "news 링크 = https://n.news.naver.com/mnews/article/138/0002179208\n",
      "news 제목 = \"뭘로 결제했더라\"…티메프 환불, 페이·카드 희비 엇갈린다\n",
      "news 링크 = https://n.news.naver.com/mnews/article/018/0005805482\n",
      "news 제목 = 엔씨, 빅게임스튜디오 370억 규모 지분·판권 투자\n",
      "news 링크 = https://n.news.naver.com/mnews/article/003/0012710504\n",
      "news 제목 = 한국금거래소 “티메프 미정산 이슈, 유동성 영향 없다…매출 영향 미미”\n",
      "news 링크 = https://n.news.naver.com/mnews/article/138/0002179207\n",
      "news 제목 = 아이폰, 이제야 한국 대우하나…신작 '1차 출시국' 포함된다\n",
      "news 링크 = https://n.news.naver.com/mnews/article/015/0005018184\n",
      "news 제목 = 혼돈의 방송통신위원회와 ‘애국자가 없는 세상’\n",
      "news 링크 = https://n.news.naver.com/mnews/article/092/0002340921\n",
      "news 제목 = 청라 화재서 촉발된 '中 배터리 포비아'…韓 3사 대체 가능성은 [소부장박대리]\n",
      "news 링크 = https://n.news.naver.com/mnews/article/138/0002179205\n",
      "news 제목 = 말라리아·일본뇌염 모기 2배 넘게 급증…가장 확실한 예방법은\n",
      "news 링크 = https://n.news.naver.com/mnews/article/421/0007710891\n",
      "news 제목 = “편의점 알바보다 열악한 처우” 이공계 석박사…연구생활장려금 지급, 숨통 트일까\n",
      "news 링크 = https://n.news.naver.com/mnews/article/016/0002345560\n",
      "news 제목 = 전기차 배터리 열폭주 막을 방법 찾았다\n",
      "news 링크 = https://n.news.naver.com/mnews/article/366/0001009912\n",
      "news 제목 = \"美 상무부, 자율주행차 중국SW 사용 금지 규정 이달 발표 예정\"\n",
      "news 링크 = https://n.news.naver.com/mnews/article/029/0002892817\n",
      "news 제목 = 이공계 대학원생에 매달 80~110만원 지급…연구비 관리제도 개선\n",
      "news 링크 = https://n.news.naver.com/mnews/article/001/0014855246\n",
      "news 제목 = 全 종목 '금메달' 석권 양궁…정의선 회장 40년 함께했다\n",
      "news 링크 = https://n.news.naver.com/mnews/article/092/0002340919\n",
      "news 제목 = \"언제까지 이렇게 덥나\"…기상청 대신 인기 폭발한 날씨앱\n",
      "news 링크 = https://n.news.naver.com/mnews/article/008/0005073035\n",
      "news 제목 = 美, 자율주행차에 중국산 SW·통신모듈 탑재 금지 추진\n",
      "news 링크 = https://n.news.naver.com/mnews/article/011/0004376131\n",
      "news 제목 = 韓 해킹한 자료로 공장·지방개발 하려는 北... 北해커들 이곳 노린다\n",
      "news 링크 = https://n.news.naver.com/mnews/article/008/0005073031\n",
      "news 제목 = 코오롱바이오텍, 골관절염 치료제 ‘TG-C’ 대량 생산 공정 개발\n",
      "news 링크 = https://n.news.naver.com/mnews/article/018/0005805447\n",
      "news 제목 = “스마트폰 시장 3년 만에 성장세...삼성, 애플과 격차 벌릴 것”\n",
      "news 링크 = https://n.news.naver.com/mnews/article/366/0001009904\n",
      "news 제목 = [제약바이오] 종근당, 바르는 소염진통제 케펨겔 출시 外\n",
      "news 링크 = https://n.news.naver.com/mnews/article/092/0002340918\n",
      "news 제목 = '아마란스10' 200% 늘어난 더존비즈온, 하반기도 맑음\n",
      "news 링크 = https://n.news.naver.com/mnews/article/014/0005223355\n",
      "news 제목 = 더존비즈온, 매출·영업이익 '쑥쑥'…\"핵심사업 고른 성장\"\n",
      "news 링크 = https://n.news.naver.com/mnews/article/648/0000027909\n"
     ]
    }
   ],
   "source": [
    "# IT/과학 뉴스\n",
    "req_param = {\n",
    "    'sid': 105\n",
    "}\n",
    "url = 'https://news.naver.com/section/{sid}'.format(**req_param)\n",
    "print(url)\n",
    "# 요청 헤더 설정 : 브라우저 정보\n",
    "req_header = {\n",
    "    'user-agent': 'Mozilla/5.0 (Windows NT 10.0; Win64; x64) AppleWebKit/537.36 (KHTML, like Gecko) Chrome/104.0.0.0 Safari/537.36'\n",
    "}\n",
    "# requests 모듈을 사용해서 http 통신 \n",
    "res = requests.get(url, headers=req_header)\n",
    "print(type(res))\n",
    "print(res.status_code) #200\n",
    "print(res.ok) #True\n",
    "if res.ok:\n",
    "    # 소스보기 텍스트 가져오기\n",
    "    html = res.text\n",
    "    # parsing을 하기 위해서 BeautifulSoup 객체생성\n",
    "    soup = BeautifulSoup(html, \"html.parser\")\n",
    "    #print(type(soup))\n",
    "    '''\n",
    "        <div class='sa_text'>\n",
    "            <a href='https://n.news.naver.com/mnews/article/092/0002340904' class='sa_text_title'>\n",
    "               <strong class=\"sa_text_strong\">엔씨소프트, 2분기 영업익 88억...실적 개선 박차</strong>\n",
    "    '''\n",
    "    #print(len(soup.select(\"div.sa_text a[href*='https://n.news.naver.com/mnews/article']\")))\n",
    "    #print(len(soup.select(\"div.sa_text a.sa_text_title\")))\n",
    "    atag_list = soup.select(\"div.sa_text a.sa_text_title\")\n",
    "    #print(type(atag_list))\n",
    "    for atag in atag_list:\n",
    "        # text속성: tag사이의 content, strip()공백제거\n",
    "        title = atag.text.strip()\n",
    "        # href 속성의 값을 추출하기\n",
    "        url = atag['href']\n",
    "        print(f'news 제목 = {title}')\n",
    "        print(f'news 링크 = {url}')\n",
    "else:\n",
    "    print(f'Error 발생 {res.status_code}')"
   ]
  },
  {
   "cell_type": "code",
   "execution_count": 41,
   "id": "4461b9cc",
   "metadata": {},
   "outputs": [],
   "source": [
    "section_dict = {100:'정치',101:'경제',102:'사회',103:'생활/문화',104:'세계',105:'IT/과학'}"
   ]
  },
  {
   "cell_type": "markdown",
   "id": "45640860-a449-4285-90d7-5f300292b461",
   "metadata": {},
   "source": [
    "### 1.1 뉴스제목 추출하는 함수 선언하기"
   ]
  },
  {
   "cell_type": "code",
   "execution_count": 48,
   "id": "9f2e4ef8",
   "metadata": {},
   "outputs": [],
   "source": [
    "import requests\n",
    "from bs4 import BeautifulSoup\n",
    "\n",
    "def print_news(sid, section):    \n",
    "    # 요청 Parameter\n",
    "    req_param = {\n",
    "    'sid': sid\n",
    "    }\n",
    "    url = 'https://news.naver.com/section/{sid}'.format(**req_param)\n",
    "    \n",
    "    print(f'======> {url} {section} 뉴스 <======')\n",
    "    \n",
    "    # 요청 헤더 설정 : 브라우저 정보\n",
    "    req_header = {\n",
    "        'user-agent': 'Mozilla/5.0 (Windows NT 10.0; Win64; x64) AppleWebKit/537.36 (KHTML, like Gecko) Chrome/104.0.0.0 Safari/537.36'\n",
    "    }\n",
    "\n",
    "    # requests 모듈을 사용해서 http 통신 \n",
    "    res = requests.get(url, headers=req_header)\n",
    "    if res.ok:\n",
    "        # 소스보기 텍스트 가져오기\n",
    "        html = res.text\n",
    "        # parsing을 하기 위해서 BeautifulSoup 객체생성\n",
    "        soup = BeautifulSoup(html, \"html.parser\")\n",
    "        atag_list = soup.select(\"div.sa_text a.sa_text_title\")\n",
    "        for atag in atag_list:\n",
    "            # text속성: tag사이의 content, strip()공백제거\n",
    "            title = atag.text.strip()\n",
    "            # href 속성의 값을 추출하기\n",
    "            url = atag['href']\n",
    "            print(f'news 제목 = {title}')\n",
    "            print(f'news 링크 = {url}')\n",
    "    else:\n",
    "        print(f'Error 발생 {res.status_code}')"
   ]
  },
  {
   "cell_type": "code",
   "execution_count": 46,
   "id": "858952c6",
   "metadata": {},
   "outputs": [
    {
     "name": "stdout",
     "output_type": "stream",
     "text": [
      "======> https://news.naver.com/section/103 생활/문화 뉴스 <======\n",
      "news 제목 = BMW코리아, 뉴 M4 컴페티션 M x드라이브 출시\n",
      "news 링크 = https://n.news.naver.com/mnews/article/082/0001282586\n",
      "news 제목 = BMW, 7월 수입차 판매 1위…벤츠·테슬라·볼보·렉서스 뒤이어\n",
      "news 링크 = https://n.news.naver.com/mnews/article/011/0004376017\n",
      "news 제목 = 현대자동차 군산 인증 중고차 센터 개소\n",
      "news 링크 = https://n.news.naver.com/mnews/article/016/0002345452\n",
      "news 제목 = 지드래곤 ‘저스피스 재단’ 출범…마약 퇴치 나선다\n",
      "news 링크 = https://n.news.naver.com/mnews/article/366/0001009896\n",
      "news 제목 = 전국 열대야·폭염 지속...곳곳 강한 소나기 주의[날씨]\n",
      "news 링크 = https://n.news.naver.com/mnews/article/052/0002070148\n",
      "news 제목 = 이용훈 \"오텔로는 모든 테너의 꿈…어렵지만 매력적\"\n",
      "news 링크 = https://n.news.naver.com/mnews/article/003/0012710235\n",
      "news 제목 = 멸치 '조금', 생선 '한 토막'…초4 아들에 '저속노화' 식단 논란\n",
      "news 링크 = https://n.news.naver.com/mnews/article/031/0000859381\n",
      "news 제목 = 8월 눈병·귓병 가장 많아…\"물놀이 시 주의 필요\"\n",
      "news 링크 = https://n.news.naver.com/mnews/article/584/0000028181\n",
      "news 제목 = 소리 없이 찾아오는 ‘협심증’… 위험 알려주는 인공지능 개발돼\n",
      "news 링크 = https://n.news.naver.com/mnews/article/346/0000078428\n",
      "news 제목 = [내일 날씨] \"낮 최고 35도\"… 전국 '폭염' 주의하세요\n",
      "news 링크 = https://n.news.naver.com/mnews/article/417/0001018906\n",
      "news 제목 = 황보라, \"얼굴에 뭘 붙인 거야?\"...피부 진정된다지만 오래 놔뒀다간\n",
      "news 링크 = https://n.news.naver.com/mnews/article/296/0000080556\n",
      "news 제목 = \"30년 동안 잠을 안잤다고?\"...밤낮 깨어있다는 40대女, 어떻게 가능?\n",
      "news 링크 = https://n.news.naver.com/mnews/article/296/0000080555\n",
      "news 제목 = 아에로멕시코, '인천~멕시코시티' 직항 2년 만에 재개\n",
      "news 링크 = https://n.news.naver.com/mnews/article/421/0007710987\n",
      "news 제목 = 7월 수입차 BMW 1위 탈환…벤츠·테슬라와 격차 벌려\n",
      "news 링크 = https://n.news.naver.com/mnews/article/092/0002340922\n",
      "news 제목 = [르포]\"쪄 죽겠다\"…대청호 수해 쓰레기 수거 현장 더위와 전쟁\n",
      "news 링크 = https://n.news.naver.com/mnews/article/001/0014855300\n",
      "news 제목 = 최소 열흘은 펄펄 끓을 한반도…역대 최고기온 '41도' 갈아 치울까\n",
      "news 링크 = https://n.news.naver.com/mnews/article/469/0000816123\n",
      "news 제목 = [날씨] 이틀 연속 40℃ 육박 폭염...'한증막 더위' 10일 이상 더 간다\n",
      "news 링크 = https://n.news.naver.com/mnews/article/052/0002070328\n",
      "news 제목 = [날씨] 한낮 체감온도 35도 안팎…내륙 중심 소나기\n",
      "news 링크 = https://n.news.naver.com/mnews/article/422/0000674747\n",
      "news 제목 = [르포] \"냉토시 안에도 땀이 줄줄\"…부산 피서지도 '헉헉'\n",
      "news 링크 = https://n.news.naver.com/mnews/article/001/0014855252\n",
      "news 제목 = \"피 한 방울로 신장이식 환자 이식 거부 반응 확인 가능\"\n",
      "news 링크 = https://n.news.naver.com/mnews/article/346/0000078424\n",
      "news 제목 = 유전자 돌연변이 없는 난소암, 면역항암제 치료 가능성 제시\n",
      "news 링크 = https://n.news.naver.com/mnews/article/346/0000078422\n",
      "news 제목 = 올해 열대야 12일 달해…'사상 최악 폭염' 2018년보다 많아\n",
      "news 링크 = https://n.news.naver.com/mnews/article/001/0014855230\n",
      "news 제목 = 5초 만에 폐암 확인… ‘이 손가락 테스트’ 아시나요?\n",
      "news 링크 = https://n.news.naver.com/mnews/article/346/0000078419\n",
      "news 제목 = [날씨] 서울 낮 체감 35℃...찜통 더위? 시원한 계곡은 달라요!\n",
      "news 링크 = https://n.news.naver.com/mnews/article/052/0002070314\n",
      "news 제목 = \"샤넬은 살 만큼 샀다\"…요즘 잘나가는 '금수저룩' [안혜원의 명품의세계]\n",
      "news 링크 = https://n.news.naver.com/mnews/article/015/0005018165\n",
      "news 제목 = 혈당 조절 위해 ‘이 식습관’ 바꿨더니... 체중에 큰 변화가?\n",
      "news 링크 = https://n.news.naver.com/mnews/article/296/0000080550\n",
      "news 제목 = '이 암' 극복하고, 아버지와 1600km 자전거 완주 목표… 英 소년, 사연 봤더니?\n",
      "news 링크 = https://n.news.naver.com/mnews/article/346/0000078418\n",
      "news 제목 = [날씨] 전국 대부분 지역 폭염경보…요란한 소나기 유의\n",
      "news 링크 = https://n.news.naver.com/mnews/article/422/0000674739\n",
      "news 제목 = 찬 음식 먹었더니 설사 줄줄… ‘이때’ 먹으면 도움 되는 음식 3\n",
      "news 링크 = https://n.news.naver.com/mnews/article/346/0000078416\n",
      "news 제목 = 태극기 휘날린 대한민국 양궁… 현대차그룹 첨단기술 ‘적중’\n",
      "news 링크 = https://n.news.naver.com/mnews/article/020/0003580327\n",
      "news 제목 = [날씨] 이틀째 40℃ 육박 극한 폭염...도로 표면 온도는?\n",
      "news 링크 = https://n.news.naver.com/mnews/article/052/0002070300\n",
      "news 제목 = 폭염에 지난주 평일 4백여명 응급실행…4명 사망\n",
      "news 링크 = https://n.news.naver.com/mnews/article/374/0000396098\n",
      "news 제목 = “국내에서만 유행하는 일본뇌염바이러스(5형), 기존 바이러스보다 더 치명적”\n",
      "news 링크 = https://n.news.naver.com/mnews/article/022/0003957238\n",
      "news 제목 = [날씨] 밤낮 가리지 않는 무더위…전국 폭염특보 발효 중\n",
      "news 링크 = https://n.news.naver.com/mnews/article/422/0000674731\n",
      "news 제목 = \"주말에만 5명 숨졌다\"…'살인 폭염'에 올해 온열질환 사망자 13명\n",
      "news 링크 = https://n.news.naver.com/mnews/article/011/0004376111\n",
      "news 제목 = 계곡에 사는 가재를 꼬시는 엉뚱한 노래\n",
      "news 링크 = https://n.news.naver.com/mnews/article/047/0002441996\n",
      "news 제목 = 나이 들수록 男이 신경 써야 할 것들...컨디션 최상으로 유지하려면?\n",
      "news 링크 = https://n.news.naver.com/mnews/article/296/0000080548\n",
      "news 제목 = 한국에만 있는 '5형 일본뇌염', 기존 백신으론 방어 못해\n",
      "news 링크 = https://n.news.naver.com/mnews/article/584/0000028176\n",
      "news 제목 = 배우 황승언, 수영복 입고 ‘애플힙’ 뒤태 뽐내… 평소 먹는 식단 뭘까?\n",
      "news 링크 = https://n.news.naver.com/mnews/article/346/0000078414\n",
      "news 제목 = ‘안정형 협심증’도 관상동맥질환 예측 성공\n",
      "news 링크 = https://n.news.naver.com/mnews/article/016/0002345496\n",
      "news 제목 = [날씨] 서울 체감 35℃...찜통 더위? 시원한 계곡은 달라요!\n",
      "news 링크 = https://n.news.naver.com/mnews/article/052/0002070282\n",
      "news 제목 = [날씨] '덥다 더워', 극한 폭염 속 도로 표면 온도 50℃ 육박\n",
      "news 링크 = https://n.news.naver.com/mnews/article/052/0002070281\n"
     ]
    }
   ],
   "source": [
    "print_news(103,section_dict[103])"
   ]
  },
  {
   "cell_type": "markdown",
   "id": "323196dc",
   "metadata": {},
   "source": [
    "### 2. Image 다운로드\n",
    "* referer 요청 헤더를 반드시 설정해야 한다."
   ]
  },
  {
   "cell_type": "code",
   "execution_count": 66,
   "id": "c72d6cb1",
   "metadata": {},
   "outputs": [
    {
     "name": "stdout",
     "output_type": "stream",
     "text": [
      "200\n",
      "writing to 20220804112251_d97bd1e1b38f0cd022e4e3639d2926b3_IMAG01_1.jpg (299,319 bytes)\n",
      "200\n",
      "writing to 20220804112251_d97bd1e1b38f0cd022e4e3639d2926b3_IMAG01_2.jpg (163,333 bytes)\n",
      "200\n",
      "writing to 20220804112251_d97bd1e1b38f0cd022e4e3639d2926b3_IMAG01_3.jpg (182,530 bytes)\n"
     ]
    }
   ],
   "source": [
    "import requests\n",
    "import os\n",
    "\n",
    "req_header = {\n",
    "    'referer':'https://comic.naver.com/webtoon/detail?titleId=798173&no=5&amp;weekday=thu'\n",
    "}\n",
    "\n",
    "# jpg filename list\n",
    "img_urls = [\n",
    "    'https://image-comic.pstatic.net/webtoon/798173/5/20220804112251_d97bd1e1b38f0cd022e4e3639d2926b3_IMAG01_1.jpg',\n",
    "    'https://image-comic.pstatic.net/webtoon/798173/5/20220804112251_d97bd1e1b38f0cd022e4e3639d2926b3_IMAG01_2.jpg',\n",
    "    'https://image-comic.pstatic.net/webtoon/798173/5/20220804112251_d97bd1e1b38f0cd022e4e3639d2926b3_IMAG01_3.jpg'\n",
    "]\n",
    "\n",
    "for img_url in img_urls:\n",
    "    res = requests.get(img_url, headers=req_header)\n",
    "    print(res.status_code)\n",
    "    if res.ok:\n",
    "        # binary 데이터 추출\n",
    "        img_data = res.content\n",
    "        # \n",
    "        file_name = os.path.basename(img_url)\n",
    "        with open(file_name, 'wb') as file:\n",
    "            print(f'writing to {file_name} ({len(img_data):,} bytes)')\n",
    "            file.write(img_data)\n",
    "    else:\n",
    "        print(f'Error 발생 {res.status_code}')"
   ]
  },
  {
   "cell_type": "markdown",
   "id": "e8b00a04",
   "metadata": {},
   "source": [
    "* 현재 요청된 페이지의 image 모두 다운로드 해보기"
   ]
  },
  {
   "cell_type": "code",
   "execution_count": 80,
   "id": "b30f7bf5",
   "metadata": {},
   "outputs": [
    {
     "name": "stdout",
     "output_type": "stream",
     "text": [
      "102\n",
      "18\n",
      "https://image-comic.pstatic.net/webtoon/817945/37/20240226100634_548bfa8f14799d53d45b5f12df1b289e_IMAG01_1.jpg\n",
      "https://image-comic.pstatic.net/webtoon/817945/37/20240226100634_548bfa8f14799d53d45b5f12df1b289e_IMAG01_2.jpg\n",
      "https://image-comic.pstatic.net/webtoon/817945/37/20240226100634_548bfa8f14799d53d45b5f12df1b289e_IMAG01_3.jpg\n",
      "https://image-comic.pstatic.net/webtoon/817945/37/20240226100634_548bfa8f14799d53d45b5f12df1b289e_IMAG01_4.jpg\n",
      "https://image-comic.pstatic.net/webtoon/817945/37/20240226100634_548bfa8f14799d53d45b5f12df1b289e_IMAG01_5.jpg\n",
      "https://image-comic.pstatic.net/webtoon/817945/37/20240226100634_548bfa8f14799d53d45b5f12df1b289e_IMAG01_6.jpg\n",
      "https://image-comic.pstatic.net/webtoon/817945/37/20240226100634_548bfa8f14799d53d45b5f12df1b289e_IMAG01_7.jpg\n",
      "https://image-comic.pstatic.net/webtoon/817945/37/20240226100634_548bfa8f14799d53d45b5f12df1b289e_IMAG01_8.jpg\n",
      "https://image-comic.pstatic.net/webtoon/817945/37/20240226100634_548bfa8f14799d53d45b5f12df1b289e_IMAG01_9.jpg\n",
      "https://image-comic.pstatic.net/webtoon/817945/37/20240226100634_548bfa8f14799d53d45b5f12df1b289e_IMAG01_10.jpg\n",
      "https://image-comic.pstatic.net/webtoon/817945/37/20240226100634_548bfa8f14799d53d45b5f12df1b289e_IMAG01_11.jpg\n",
      "https://image-comic.pstatic.net/webtoon/817945/37/20240226100634_548bfa8f14799d53d45b5f12df1b289e_IMAG01_12.jpg\n",
      "https://image-comic.pstatic.net/webtoon/817945/37/20240226100634_548bfa8f14799d53d45b5f12df1b289e_IMAG01_13.jpg\n",
      "https://image-comic.pstatic.net/webtoon/817945/37/20240226100634_548bfa8f14799d53d45b5f12df1b289e_IMAG01_14.jpg\n",
      "https://image-comic.pstatic.net/webtoon/817945/37/20240226100634_548bfa8f14799d53d45b5f12df1b289e_IMAG01_15.jpg\n",
      "https://image-comic.pstatic.net/webtoon/817945/37/20240226100634_548bfa8f14799d53d45b5f12df1b289e_IMAG01_16.jpg\n",
      "https://image-comic.pstatic.net/webtoon/817945/37/20240226100634_548bfa8f14799d53d45b5f12df1b289e_IMAG01_17.jpg\n",
      "https://image-comic.pstatic.net/webtoon/817945/37/20240226100634_548bfa8f14799d53d45b5f12df1b289e_IMAG01_18.jpg\n"
     ]
    }
   ],
   "source": [
    "import requests\n",
    "import os\n",
    "\n",
    "webtoon_url = 'https://comic.naver.com/webtoon/detail?titleId=817945&no=37&week=mon'\n",
    "req_header = {\n",
    "    'referer': webtoon_url\n",
    "}\n",
    "# jpg image 파일명을 먼저 알아내기\n",
    "res = requests.get(webtoon_url)\n",
    "if res.ok: #200\n",
    "    # xxx.jpg 파일명 목록 가져오기\n",
    "    soup = BeautifulSoup(res.text, 'html.parser')\n",
    "    print(len(soup.select(\"img[src$='.jpg']\")))\n",
    "    print(len(soup.select(\"img[src*='IMAG01']\")))\n",
    "    img_tag_list = soup.select(\"img[src*='IMAG01']\")\n",
    "    \n",
    "    # image 파일명을 저장할 리스트 선언\n",
    "    img_url_list = []\n",
    "    for img_tag in img_tag_list:\n",
    "        print(img_tag['src'])\n",
    "        # image 태그의 src 속성의 값을 추출해서 list에 추가하기\n",
    "        img_url_list.append(img_tag['src'])\n",
    "else:\n",
    "    print(res.status_code)"
   ]
  },
  {
   "cell_type": "markdown",
   "id": "2ac9f5f9",
   "metadata": {},
   "source": [
    "### 3. 파일 업로드 하기\n",
    "* http://httpbin.org/post 업로드 요청을 할 수 있는 url"
   ]
  },
  {
   "cell_type": "code",
   "execution_count": 17,
   "id": "04da4790",
   "metadata": {},
   "outputs": [],
   "source": []
  },
  {
   "cell_type": "markdown",
   "id": "7ad65f12",
   "metadata": {},
   "source": [
    "### 4. 단축 URL 생성하는 Open API 사용하기\n",
    "* urllib 사용"
   ]
  },
  {
   "cell_type": "code",
   "execution_count": null,
   "id": "abbb0ebf",
   "metadata": {},
   "outputs": [],
   "source": [
    "import os\n",
    "import sys\n",
    "import urllib.request\n",
    "\n",
    "client_id = \"V\" # 개발자센터에서 발급받은 Client ID 값\n",
    "client_secret = \"y_\" # 개발자센터에서 발급받은 Client Secret 값\n",
    "encText = urllib.parse.quote(\"https://drive.google.com/drive/u/0/folders/1V_DK7Px5w_niEKLlWhDr_GPgIYHG3Du-\")\n",
    "data = \"url=\" + encText\n",
    "url = \"https://openapi.naver.com/v1/util/shorturl\"\n",
    "\n",
    "request = urllib.request.Request(url)\n",
    "request.add_header(\"X-Naver-Client-Id\",client_id)\n",
    "request.add_header(\"X-Naver-Client-Secret\",client_secret)\n",
    "\n",
    "response = urllib.request.urlopen(request, data=data.encode(\"utf-8\"))\n",
    "rescode = response.getcode()\n",
    "if(rescode==200):\n",
    "    response_body = response.read()\n",
    "    print(response_body.decode('utf-8'))\n",
    "else:\n",
    "    print(\"Error Code:\" + rescode)\n"
   ]
  },
  {
   "cell_type": "markdown",
   "id": "b7d984a6",
   "metadata": {},
   "source": [
    "* requests를 사용하는 코드로 변경하기\n",
    "* [requests docs](https://requests.readthedocs.io/en/latest/user/quickstart/)"
   ]
  },
  {
   "cell_type": "code",
   "execution_count": null,
   "id": "727b427b",
   "metadata": {
    "scrolled": true
   },
   "outputs": [],
   "source": [
    "import requests\n",
    "\n",
    "client_id = \"V\" # 개발자센터에서 발급받은 Client ID 값\n",
    "client_secret = \"y_\" # 개발자센터에서 발급받은 Client Secret 값\n",
    "\n",
    "origin_url = \"https://drive.google.com/drive/u/0/folders/1V_DK7Px5w_niEKLlWhDr_GPgIYHG3Du-\"\n",
    "\n"
   ]
  },
  {
   "cell_type": "markdown",
   "id": "d5e1179a",
   "metadata": {},
   "source": [
    "### 5. 블로그 검색하기"
   ]
  },
  {
   "cell_type": "code",
   "execution_count": null,
   "id": "877d0c7f",
   "metadata": {},
   "outputs": [],
   "source": [
    "import requests\n",
    "import pprint\n",
    "\n",
    "headers = {\n",
    "    'X-Naver-Client-Id': 'V',\n",
    "    'X-Naver-Client-Secret': 'y_',\n",
    "}\n",
    "\n",
    "payload = {\n",
    "    'query': '파이썬',\n",
    "    'display': 100,\n",
    "    'sort': 'sim'\n",
    "}\n",
    "\n",
    "url = 'https://openapi.naver.com/v1/search/blog.json'\n",
    "\n",
    "res = requests.get(url, params=payload, headers=headers)\n",
    "items_data = res.json()['items']\n",
    "#print(items_data)\n",
    "\n",
    "items_list = list()\n",
    "item_list = []\n",
    "for item in items_data:\n",
    "#     print(item)\n",
    "    item_list.append(item['title'])\n",
    "    item_list.append(item['bloggername'])\n",
    "    item_list.append(item['description'])\n",
    "    item_list.append(item['bloggerlink'])\n",
    "    item_list.append(item['link'])\n",
    "\n",
    "    items_list.append(item_list)\n",
    "    item_list = []\n",
    "\n",
    "print(items_list)\n",
    "\n",
    "with open('data/nhnblog.txt','w',encoding=\"utf-8\")as file:\n",
    "    for items in items_list:\n",
    "        for item in items:\n",
    "            item = item + '\\n'\n",
    "            file.write(item)\n",
    "        file.write('-'*150+'\\n')"
   ]
  }
 ],
 "metadata": {
  "kernelspec": {
   "display_name": "Python 3 (ipykernel)",
   "language": "python",
   "name": "python3"
  },
  "language_info": {
   "codemirror_mode": {
    "name": "ipython",
    "version": 3
   },
   "file_extension": ".py",
   "mimetype": "text/x-python",
   "name": "python",
   "nbconvert_exporter": "python",
   "pygments_lexer": "ipython3",
   "version": "3.12.4"
  }
 },
 "nbformat": 4,
 "nbformat_minor": 5
}
