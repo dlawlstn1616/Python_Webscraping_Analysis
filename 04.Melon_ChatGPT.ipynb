{
 "cells": [
  {
   "cell_type": "markdown",
   "id": "7a293235-564d-4da4-aeb9-d442ac599093",
   "metadata": {},
   "source": [
    "* https://www.melon.com/chart/index.htm\r",
    "* \n",
    "Melon 100 chart 에서 100곡의 노래 정보를 웹스크래핑 하는 source code를 작성해 주세요.* \r\n",
    "추출할 항목은 노래의 제목, 가수이름, 앨범, 앨범발매일, 장르, 좋아요건수, 가사 입니다."
   ]
  },
  {
   "cell_type": "code",
   "execution_count": 2,
   "id": "06537d31-482e-425e-a836-712d89f5fded",
   "metadata": {},
   "outputs": [
    {
     "ename": "TypeError",
     "evalue": "'ResultSet' object cannot be interpreted as an integer",
     "output_type": "error",
     "traceback": [
      "\u001b[1;31m---------------------------------------------------------------------------\u001b[0m",
      "\u001b[1;31mTypeError\u001b[0m                                 Traceback (most recent call last)",
      "Cell \u001b[1;32mIn[2], line 21\u001b[0m\n\u001b[0;32m     19\u001b[0m \u001b[38;5;66;03m# 각 곡의 정보 추출\u001b[39;00m\n\u001b[0;32m     20\u001b[0m song_data \u001b[38;5;241m=\u001b[39m []\n\u001b[1;32m---> 21\u001b[0m \u001b[38;5;28;01mfor\u001b[39;00m idx, song \u001b[38;5;129;01min\u001b[39;00m \u001b[38;5;28menumerate\u001b[39m(\u001b[38;5;241m1\u001b[39m, songs):\n\u001b[0;32m     22\u001b[0m     \u001b[38;5;28mprint\u001b[39m(idx)\n\u001b[0;32m     23\u001b[0m     song_id \u001b[38;5;241m=\u001b[39m song[\u001b[38;5;124m'\u001b[39m\u001b[38;5;124mdata-song-no\u001b[39m\u001b[38;5;124m'\u001b[39m]\n",
      "\u001b[1;31mTypeError\u001b[0m: 'ResultSet' object cannot be interpreted as an integer"
     ]
    }
   ],
   "source": [
    "import requests\n",
    "from bs4 import BeautifulSoup\n",
    "import pandas as pd\n",
    "\n",
    "# Melon 100 차트 URL\n",
    "base_url = 'https://www.melon.com/chart/index.htm'\n",
    "headers = {\n",
    "    'User-Agent': 'Mozilla/5.0 (Windows NT 10.0; Win64; x64) AppleWebKit/537.36 (KHTML, like Gecko) Chrome/91.0.4472.124 Safari/537.36',\n",
    "    'Referer': 'https://www.melon.com/index.htm'\n",
    "}\n",
    "\n",
    "# 페이지 요청 및 파싱\n",
    "response = requests.get(base_url, headers=headers)\n",
    "soup = BeautifulSoup(response.text, 'html.parser')\n",
    "\n",
    "# 곡 정보가 담긴 리스트 가져오기\n",
    "songs = soup.select('tr[data-song-no]')\n",
    "\n",
    "# 각 곡의 정보 추출\n",
    "song_data = []\n",
    "for idx, song in enumerate(1, songs):\n",
    "    print(idx)\n",
    "    song_id = song['data-song-no']\n",
    "    title = song.select_one('div.ellipsis.rank01 > span > a').text\n",
    "    artist = song.select_one('div.ellipsis.rank02 > a').text\n",
    "    album = song.select_one('div.ellipsis.rank03 > a').text\n",
    "\n",
    "    # 곡의 상세 정보 페이지 요청 및 파싱\n",
    "    detail_url = f'https://www.melon.com/song/detail.htm?songId={song_id}'\n",
    "    detail_response = requests.get(detail_url, headers=headers)\n",
    "    detail_soup = BeautifulSoup(detail_response.text, 'html.parser')\n",
    "\n",
    "    release_date = detail_soup.select_one('dl.list > dd:nth-of-type(2)').text\n",
    "    genre = detail_soup.select_one('dl.list > dd:nth-of-type(3)').text\n",
    "    likes = detail_soup.select_one('span.cnt').text.strip('총건수').replace(',', '').strip()\n",
    "\n",
    "    lyrics = detail_soup.select_one('div.lyric')\n",
    "    if lyrics:\n",
    "        lyrics = lyrics.text.strip()\n",
    "    else:\n",
    "        lyrics = ''\n",
    "\n",
    "    song_data.append({\n",
    "        'title': title,\n",
    "        'artist': artist,\n",
    "        'album': album,\n",
    "        'release_date': release_date,\n",
    "        'genre': genre,\n",
    "        'likes': likes,\n",
    "        'lyrics': lyrics\n",
    "    })\n",
    "\n",
    "# Pandas DataFrame으로 변환\n",
    "df = pd.DataFrame(song_data)\n",
    "\n",
    "# 결과를 CSV 파일로 저장\n",
    "df.to_csv('melon_top_100.csv', index=False, encoding='utf-8-sig')\n",
    "\n",
    "# 결과 출력 (선택사항)\n",
    "df.head()"
   ]
  }
 ],
 "metadata": {
  "kernelspec": {
   "display_name": "Python 3 (ipykernel)",
   "language": "python",
   "name": "python3"
  },
  "language_info": {
   "codemirror_mode": {
    "name": "ipython",
    "version": 3
   },
   "file_extension": ".py",
   "mimetype": "text/x-python",
   "name": "python",
   "nbconvert_exporter": "python",
   "pygments_lexer": "ipython3",
   "version": "3.12.4"
  }
 },
 "nbformat": 4,
 "nbformat_minor": 5
}
